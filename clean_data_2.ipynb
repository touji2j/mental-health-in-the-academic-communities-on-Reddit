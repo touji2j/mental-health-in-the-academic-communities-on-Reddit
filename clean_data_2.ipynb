{
 "cells": [
  {
   "cell_type": "code",
   "execution_count": 2,
   "metadata": {},
   "outputs": [],
   "source": [
    "import pandas as pd\n",
    "df1=pd.read_csv('post_df_by_date.csv')  \n",
    "df2=pd.read_csv('post2_df_by_date.csv')  \n",
    "df3=pd.read_csv('post3_df_by_date.csv')  \n",
    "df4=pd.read_csv('post4_df_by_date.csv')  "
   ]
  },
  {
   "cell_type": "code",
   "execution_count": 11,
   "metadata": {},
   "outputs": [],
   "source": [
    "df1=df1[['id','author','author_fullname','title','selftext','score','created_utc']]\n",
    "df2=df2[['id','author','author_fullname','title','selftext','score','created_utc']]\n",
    "df3=df3[['id','author','author_fullname','title','selftext','score','created_utc']]\n",
    "df4=df4[['id','author','author_fullname','title','selftext','score','created_utc']]"
   ]
  },
  {
   "cell_type": "code",
   "execution_count": 19,
   "metadata": {},
   "outputs": [
    {
     "name": "stdout",
     "output_type": "stream",
     "text": [
      "583 107 54 434\n",
      "1178\n"
     ]
    }
   ],
   "source": [
    "print(len(df1),len(df2),len(df3),len(df4))\n",
    "T=len(df1)+len(df2)+len(df3)+len(df4)\n",
    "print(T)"
   ]
  },
  {
   "cell_type": "code",
   "execution_count": 20,
   "metadata": {},
   "outputs": [],
   "source": [
    "df=df1.append(df2)\n",
    "df=df.append(df3)\n",
    "df=df.append(df4)\n",
    "#Supressiond es redandances\n",
    "df.drop_duplicates(keep=False,inplace=True)\n"
   ]
  },
  {
   "cell_type": "markdown",
   "metadata": {},
   "source": []
  },
  {
   "cell_type": "code",
   "execution_count": 21,
   "metadata": {},
   "outputs": [
    {
     "data": {
      "text/plain": [
       "958"
      ]
     },
     "execution_count": 21,
     "metadata": {},
     "output_type": "execute_result"
    }
   ],
   "source": [
    "len(df)"
   ]
  },
  {
   "cell_type": "code",
   "execution_count": 22,
   "metadata": {},
   "outputs": [],
   "source": [
    "df.to_csv ('final_post_df.csv', index = False, header=True)\n"
   ]
  },
  {
   "cell_type": "code",
   "execution_count": 25,
   "metadata": {},
   "outputs": [],
   "source": [
    "import pandas as pd\n",
    "df10=pd.read_csv('comment_df_by_date.csv')  \n",
    "df20=pd.read_csv('comment2_df_by_date.csv')  \n",
    "df30=pd.read_csv('comment3_df_by_date.csv')  \n",
    "df40=pd.read_csv('comment4_df_by_date.csv')  "
   ]
  },
  {
   "cell_type": "code",
   "execution_count": 29,
   "metadata": {},
   "outputs": [],
   "source": [
    "df10=df10[['id','parent_id','send_replies','author','author_fullname','body','score','created_utc']]\n",
    "df20=df20[['id','parent_id','send_replies','author','author_fullname','body','score','created_utc']]\n",
    "df30=df30[['id','parent_id','send_replies','author','author_fullname','body','score','created_utc']]\n",
    "df40=df40[['id','parent_id','send_replies','author','author_fullname','body','score','created_utc']]\n"
   ]
  },
  {
   "cell_type": "code",
   "execution_count": 30,
   "metadata": {},
   "outputs": [
    {
     "name": "stdout",
     "output_type": "stream",
     "text": [
      "2414 321 173 1179 4087\n"
     ]
    }
   ],
   "source": [
    "T=len(df10)+len(df20)+len(df30)+len(df40)\n",
    "print(len(df10),len(df20),len(df30),len(df40), T)"
   ]
  },
  {
   "cell_type": "code",
   "execution_count": 32,
   "metadata": {},
   "outputs": [
    {
     "data": {
      "text/plain": [
       "4087"
      ]
     },
     "execution_count": 32,
     "metadata": {},
     "output_type": "execute_result"
    }
   ],
   "source": [
    "dfc=df10.append(df20)\n",
    "dfc=dfc.append(df30)\n",
    "dfc=dfc.append(df40)\n",
    "len(dfc)"
   ]
  },
  {
   "cell_type": "code",
   "execution_count": 33,
   "metadata": {},
   "outputs": [
    {
     "data": {
      "text/plain": [
       "3465"
      ]
     },
     "execution_count": 33,
     "metadata": {},
     "output_type": "execute_result"
    }
   ],
   "source": [
    "#Supressiond es redandances\n",
    "dfc.drop_duplicates(keep=False,inplace=True)\n",
    "len(dfc)"
   ]
  },
  {
   "cell_type": "code",
   "execution_count": 34,
   "metadata": {},
   "outputs": [],
   "source": [
    "dfc.to_csv ('final_comment_df.csv', index = False, header=True)"
   ]
  },
  {
   "cell_type": "code",
   "execution_count": 35,
   "metadata": {},
   "outputs": [
    {
     "data": {
      "text/html": [
       "<div>\n",
       "<style scoped>\n",
       "    .dataframe tbody tr th:only-of-type {\n",
       "        vertical-align: middle;\n",
       "    }\n",
       "\n",
       "    .dataframe tbody tr th {\n",
       "        vertical-align: top;\n",
       "    }\n",
       "\n",
       "    .dataframe thead th {\n",
       "        text-align: right;\n",
       "    }\n",
       "</style>\n",
       "<table border=\"1\" class=\"dataframe\">\n",
       "  <thead>\n",
       "    <tr style=\"text-align: right;\">\n",
       "      <th></th>\n",
       "      <th>id</th>\n",
       "      <th>parent_id</th>\n",
       "      <th>send_replies</th>\n",
       "      <th>author</th>\n",
       "      <th>author_fullname</th>\n",
       "      <th>body</th>\n",
       "      <th>score</th>\n",
       "      <th>created_utc</th>\n",
       "    </tr>\n",
       "  </thead>\n",
       "  <tbody>\n",
       "    <tr>\n",
       "      <th>0</th>\n",
       "      <td>fv5ocpd</td>\n",
       "      <td>t3_hawg06</td>\n",
       "      <td>True</td>\n",
       "      <td>hellyabruther</td>\n",
       "      <td>t2_5wlgc6ek</td>\n",
       "      <td>I actually smoke weed all the time!\\n\\nFor me,...</td>\n",
       "      <td>7</td>\n",
       "      <td>2020-06-17 19:56:14</td>\n",
       "    </tr>\n",
       "    <tr>\n",
       "      <th>1</th>\n",
       "      <td>fv5br1i</td>\n",
       "      <td>t3_hawg06</td>\n",
       "      <td>True</td>\n",
       "      <td>rexkwando-</td>\n",
       "      <td>t2_cr41u8n</td>\n",
       "      <td>It’s pretty well known a good amount of academ...</td>\n",
       "      <td>1</td>\n",
       "      <td>2020-06-17 18:23:07</td>\n",
       "    </tr>\n",
       "    <tr>\n",
       "      <th>2</th>\n",
       "      <td>fv3vf2p</td>\n",
       "      <td>t3_hagwrf</td>\n",
       "      <td>True</td>\n",
       "      <td>creature-of-the-dark</td>\n",
       "      <td>t2_3iilepr8</td>\n",
       "      <td>It took me about 6 months post-PhD to get over...</td>\n",
       "      <td>1</td>\n",
       "      <td>2020-06-17 09:38:15</td>\n",
       "    </tr>\n",
       "    <tr>\n",
       "      <th>3</th>\n",
       "      <td>fuxv6y7</td>\n",
       "      <td>t3_h9n78d</td>\n",
       "      <td>True</td>\n",
       "      <td>SurvivingJupiter</td>\n",
       "      <td>t2_45mmqa9l</td>\n",
       "      <td>Hey, I'm just going to say it. I don't think y...</td>\n",
       "      <td>2</td>\n",
       "      <td>2020-06-15 20:45:06</td>\n",
       "    </tr>\n",
       "    <tr>\n",
       "      <th>4</th>\n",
       "      <td>fut0h34</td>\n",
       "      <td>t3_h8t4fk</td>\n",
       "      <td>True</td>\n",
       "      <td>cm0011</td>\n",
       "      <td>t2_fx8fj</td>\n",
       "      <td>I will provide a dissenting opinion - I haven’...</td>\n",
       "      <td>1</td>\n",
       "      <td>2020-06-14 15:04:56</td>\n",
       "    </tr>\n",
       "  </tbody>\n",
       "</table>\n",
       "</div>"
      ],
      "text/plain": [
       "        id  parent_id send_replies                author author_fullname  \\\n",
       "0  fv5ocpd  t3_hawg06         True         hellyabruther     t2_5wlgc6ek   \n",
       "1  fv5br1i  t3_hawg06         True            rexkwando-      t2_cr41u8n   \n",
       "2  fv3vf2p  t3_hagwrf         True  creature-of-the-dark     t2_3iilepr8   \n",
       "3  fuxv6y7  t3_h9n78d         True      SurvivingJupiter     t2_45mmqa9l   \n",
       "4  fut0h34  t3_h8t4fk         True                cm0011        t2_fx8fj   \n",
       "\n",
       "                                                body  score  \\\n",
       "0  I actually smoke weed all the time!\\n\\nFor me,...      7   \n",
       "1  It’s pretty well known a good amount of academ...      1   \n",
       "2  It took me about 6 months post-PhD to get over...      1   \n",
       "3  Hey, I'm just going to say it. I don't think y...      2   \n",
       "4  I will provide a dissenting opinion - I haven’...      1   \n",
       "\n",
       "           created_utc  \n",
       "0  2020-06-17 19:56:14  \n",
       "1  2020-06-17 18:23:07  \n",
       "2  2020-06-17 09:38:15  \n",
       "3  2020-06-15 20:45:06  \n",
       "4  2020-06-14 15:04:56  "
      ]
     },
     "execution_count": 35,
     "metadata": {},
     "output_type": "execute_result"
    }
   ],
   "source": [
    "dfc.head()"
   ]
  },
  {
   "cell_type": "code",
   "execution_count": null,
   "metadata": {},
   "outputs": [],
   "source": []
  },
  {
   "cell_type": "code",
   "execution_count": null,
   "metadata": {},
   "outputs": [],
   "source": []
  }
 ],
 "metadata": {
  "kernelspec": {
   "display_name": "Python 3",
   "language": "python",
   "name": "python3"
  },
  "language_info": {
   "codemirror_mode": {
    "name": "ipython",
    "version": 3
   },
   "file_extension": ".py",
   "mimetype": "text/x-python",
   "name": "python",
   "nbconvert_exporter": "python",
   "pygments_lexer": "ipython3",
   "version": "3.8.3"
  }
 },
 "nbformat": 4,
 "nbformat_minor": 4
}
