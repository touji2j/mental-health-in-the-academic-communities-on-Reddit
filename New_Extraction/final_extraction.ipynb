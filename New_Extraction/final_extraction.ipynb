{
 "cells": [
  {
   "cell_type": "markdown",
   "metadata": {},
   "source": [
    "## 🔆 Importation des librairies "
   ]
  },
  {
   "cell_type": "code",
   "execution_count": 1,
   "metadata": {},
   "outputs": [],
   "source": [
    "import pandas as pd\n",
    "from pmaw import PushshiftAPI"
   ]
  },
  {
   "cell_type": "markdown",
   "metadata": {},
   "source": [
    "## 🔆 The use of API Pushshift \n",
    "### 1️⃣ Extraction des posts (583)\n"
   ]
  },
  {
   "cell_type": "code",
   "execution_count": 75,
   "metadata": {},
   "outputs": [
    {
     "name": "stdout",
     "output_type": "stream",
     "text": [
      "583 results available in Pushshift\n",
      "Total:: Success Rate: 66.67% - Requests: 15 - Batches: 3 - Items Remaining: 403\n",
      "Total:: Success Rate: 80.00% - Requests: 25 - Batches: 4 - Items Remaining: 239\n",
      "Total:: Success Rate: 85.71% - Requests: 35 - Batches: 5 - Items Remaining: 139\n",
      "Total:: Success Rate: 88.89% - Requests: 45 - Batches: 6 - Items Remaining: 93\n",
      "Total:: Success Rate: 90.91% - Requests: 55 - Batches: 7 - Items Remaining: 62\n",
      "Total:: Success Rate: 92.31% - Requests: 65 - Batches: 8 - Items Remaining: 31\n",
      "Total:: Success Rate: 93.33% - Requests: 75 - Batches: 9 - Items Remaining: 17\n",
      "Checkpoint:: Success Rate: 94.12% - Requests: 85 - Batches: 10 - Items Remaining: 11\n",
      "Total:: Success Rate: 94.12% - Requests: 85 - Batches: 10 - Items Remaining: 11\n",
      "Total:: Success Rate: 94.74% - Requests: 95 - Batches: 11 - Items Remaining: 3\n",
      "Total:: Success Rate: 95.10% - Requests: 102 - Batches: 12 - Items Remaining: 0\n"
     ]
    }
   ],
   "source": [
    "posts = api.search_submissions(subreddit=\"askacademia\",q=\"mental health\")\n",
    "post_list = [post for post in posts]"
   ]
  },
  {
   "cell_type": "markdown",
   "metadata": {},
   "source": [
    "### 2️⃣ Clean posts"
   ]
  },
  {
   "cell_type": "code",
   "execution_count": 122,
   "metadata": {},
   "outputs": [],
   "source": [
    "post_df=pd.DataFrame(post_list)\n",
    "post_df=post_df[['id','author','author_fullname','title','selftext','score','created_utc','subreddit']]\n"
   ]
  },
  {
   "cell_type": "markdown",
   "metadata": {},
   "source": [
    "#### date post 📅"
   ]
  },
  {
   "cell_type": "code",
   "execution_count": 123,
   "metadata": {},
   "outputs": [
    {
     "name": "stderr",
     "output_type": "stream",
     "text": [
      "<ipython-input-123-4ec2dffdaa69>:3: SettingWithCopyWarning: \n",
      "A value is trying to be set on a copy of a slice from a DataFrame\n",
      "\n",
      "See the caveats in the documentation: https://pandas.pydata.org/pandas-docs/stable/user_guide/indexing.html#returning-a-view-versus-a-copy\n",
      "  post_df['created_utc'][i]=datetime.utcfromtimestamp(post_df['created_utc'][i]).strftime('%Y-%m-%d %H:%M:%S')\n"
     ]
    }
   ],
   "source": [
    "from datetime import datetime\n",
    "for i in range(len(post_df)):\n",
    "    post_df['created_utc'][i]=datetime.utcfromtimestamp(post_df['created_utc'][i]).strftime('%Y-%m-%d %H:%M:%S')\n",
    "          "
   ]
  },
  {
   "cell_type": "code",
   "execution_count": 138,
   "metadata": {},
   "outputs": [],
   "source": [
    "post_df.to_csv('post_df_by_date.csv', index=False, header=True)"
   ]
  },
  {
   "cell_type": "markdown",
   "metadata": {},
   "source": [
    "#### sort values by score 🕹"
   ]
  },
  {
   "cell_type": "code",
   "execution_count": 139,
   "metadata": {},
   "outputs": [
    {
     "data": {
      "text/html": [
       "<div>\n",
       "<style scoped>\n",
       "    .dataframe tbody tr th:only-of-type {\n",
       "        vertical-align: middle;\n",
       "    }\n",
       "\n",
       "    .dataframe tbody tr th {\n",
       "        vertical-align: top;\n",
       "    }\n",
       "\n",
       "    .dataframe thead th {\n",
       "        text-align: right;\n",
       "    }\n",
       "</style>\n",
       "<table border=\"1\" class=\"dataframe\">\n",
       "  <thead>\n",
       "    <tr style=\"text-align: right;\">\n",
       "      <th></th>\n",
       "      <th>id</th>\n",
       "      <th>author</th>\n",
       "      <th>author_fullname</th>\n",
       "      <th>title</th>\n",
       "      <th>selftext</th>\n",
       "      <th>score</th>\n",
       "      <th>created_utc</th>\n",
       "      <th>subreddit</th>\n",
       "    </tr>\n",
       "  </thead>\n",
       "  <tbody>\n",
       "    <tr>\n",
       "      <th>441</th>\n",
       "      <td>avh3f7</td>\n",
       "      <td>AltAcAcct</td>\n",
       "      <td>t2_3az8urx4</td>\n",
       "      <td>We're in this together - followup on yesterday...</td>\n",
       "      <td>Hi all - Humanities Anon here. [I made a post ...</td>\n",
       "      <td>200</td>\n",
       "      <td>2019-02-27 19:08:42</td>\n",
       "      <td>AskAcademia</td>\n",
       "    </tr>\n",
       "    <tr>\n",
       "      <th>55</th>\n",
       "      <td>iryzhu</td>\n",
       "      <td>SeekingToEscape</td>\n",
       "      <td>t2_7wu8bo8b</td>\n",
       "      <td>Always dreamed of becoming an academic, intell...</td>\n",
       "      <td>English lit major at a top tier liberal arts u...</td>\n",
       "      <td>150</td>\n",
       "      <td>2020-09-13 14:14:29</td>\n",
       "      <td>AskAcademia</td>\n",
       "    </tr>\n",
       "    <tr>\n",
       "      <th>478</th>\n",
       "      <td>7wihb6</td>\n",
       "      <td>MsFrizzle94</td>\n",
       "      <td>NaN</td>\n",
       "      <td>Just Earned PhD in Cognitive Psychology &amp;amp; ...</td>\n",
       "      <td>I received my PhD in Cognitive Psychology in A...</td>\n",
       "      <td>149</td>\n",
       "      <td>2018-02-10 01:56:14</td>\n",
       "      <td>AskAcademia</td>\n",
       "    </tr>\n",
       "    <tr>\n",
       "      <th>205</th>\n",
       "      <td>bnkkhh</td>\n",
       "      <td>gradschoolabuse</td>\n",
       "      <td>t2_23jv8dzt</td>\n",
       "      <td>Academia has given me chronic mental health pr...</td>\n",
       "      <td>I am a postdoc who escaped a 'lab' with a noto...</td>\n",
       "      <td>147</td>\n",
       "      <td>2019-05-12 03:11:12</td>\n",
       "      <td>AskAcademia</td>\n",
       "    </tr>\n",
       "    <tr>\n",
       "      <th>181</th>\n",
       "      <td>bhgvkv</td>\n",
       "      <td>lickmysackett</td>\n",
       "      <td>t2_dmz8zr5</td>\n",
       "      <td>Has anyone here NOT had significant issues com...</td>\n",
       "      <td>Genuinely curious how many individuals here di...</td>\n",
       "      <td>142</td>\n",
       "      <td>2019-04-26 01:59:55</td>\n",
       "      <td>AskAcademia</td>\n",
       "    </tr>\n",
       "    <tr>\n",
       "      <th>237</th>\n",
       "      <td>d5u4pu</td>\n",
       "      <td>LatteFairy</td>\n",
       "      <td>t2_s1zt2</td>\n",
       "      <td>What kind of reading schedule do you maintain ...</td>\n",
       "      <td>I only ask because I'm a final year undergrad ...</td>\n",
       "      <td>112</td>\n",
       "      <td>2019-09-18 07:13:42</td>\n",
       "      <td>AskAcademia</td>\n",
       "    </tr>\n",
       "    <tr>\n",
       "      <th>243</th>\n",
       "      <td>cyuo99</td>\n",
       "      <td>usedhandles</td>\n",
       "      <td>t2_3fg9by85</td>\n",
       "      <td>Labour Day thread on precarious labour in post...</td>\n",
       "      <td>Polemically put: post secondary educational fa...</td>\n",
       "      <td>99</td>\n",
       "      <td>2019-09-02 20:38:26</td>\n",
       "      <td>AskAcademia</td>\n",
       "    </tr>\n",
       "    <tr>\n",
       "      <th>251</th>\n",
       "      <td>ctklyd</td>\n",
       "      <td>KhutulunKhatun</td>\n",
       "      <td>t2_2q07xmdb</td>\n",
       "      <td>Rejected from all PhD applications, feeling di...</td>\n",
       "      <td>Here's the deal. I applied to 12 grad schools ...</td>\n",
       "      <td>96</td>\n",
       "      <td>2019-08-21 18:08:48</td>\n",
       "      <td>AskAcademia</td>\n",
       "    </tr>\n",
       "    <tr>\n",
       "      <th>248</th>\n",
       "      <td>cwrpuc</td>\n",
       "      <td>doctorungrateful</td>\n",
       "      <td>t2_4gyq3d0d</td>\n",
       "      <td>Was just awarded an early career grant... but ...</td>\n",
       "      <td>So... just got the notification my project was...</td>\n",
       "      <td>86</td>\n",
       "      <td>2019-08-28 22:10:14</td>\n",
       "      <td>AskAcademia</td>\n",
       "    </tr>\n",
       "    <tr>\n",
       "      <th>429</th>\n",
       "      <td>b3wawt</td>\n",
       "      <td>zirchron</td>\n",
       "      <td>t2_t915pdh</td>\n",
       "      <td>Professors: have you ever had a grad student a...</td>\n",
       "      <td>How did you react? What changed (if at all) ab...</td>\n",
       "      <td>76</td>\n",
       "      <td>2019-03-21 21:30:46</td>\n",
       "      <td>AskAcademia</td>\n",
       "    </tr>\n",
       "  </tbody>\n",
       "</table>\n",
       "</div>"
      ],
      "text/plain": [
       "         id            author author_fullname  \\\n",
       "441  avh3f7         AltAcAcct     t2_3az8urx4   \n",
       "55   iryzhu   SeekingToEscape     t2_7wu8bo8b   \n",
       "478  7wihb6       MsFrizzle94             NaN   \n",
       "205  bnkkhh   gradschoolabuse     t2_23jv8dzt   \n",
       "181  bhgvkv     lickmysackett      t2_dmz8zr5   \n",
       "237  d5u4pu        LatteFairy        t2_s1zt2   \n",
       "243  cyuo99       usedhandles     t2_3fg9by85   \n",
       "251  ctklyd    KhutulunKhatun     t2_2q07xmdb   \n",
       "248  cwrpuc  doctorungrateful     t2_4gyq3d0d   \n",
       "429  b3wawt          zirchron      t2_t915pdh   \n",
       "\n",
       "                                                 title  \\\n",
       "441  We're in this together - followup on yesterday...   \n",
       "55   Always dreamed of becoming an academic, intell...   \n",
       "478  Just Earned PhD in Cognitive Psychology &amp; ...   \n",
       "205  Academia has given me chronic mental health pr...   \n",
       "181  Has anyone here NOT had significant issues com...   \n",
       "237  What kind of reading schedule do you maintain ...   \n",
       "243  Labour Day thread on precarious labour in post...   \n",
       "251  Rejected from all PhD applications, feeling di...   \n",
       "248  Was just awarded an early career grant... but ...   \n",
       "429  Professors: have you ever had a grad student a...   \n",
       "\n",
       "                                              selftext  score  \\\n",
       "441  Hi all - Humanities Anon here. [I made a post ...    200   \n",
       "55   English lit major at a top tier liberal arts u...    150   \n",
       "478  I received my PhD in Cognitive Psychology in A...    149   \n",
       "205  I am a postdoc who escaped a 'lab' with a noto...    147   \n",
       "181  Genuinely curious how many individuals here di...    142   \n",
       "237  I only ask because I'm a final year undergrad ...    112   \n",
       "243  Polemically put: post secondary educational fa...     99   \n",
       "251  Here's the deal. I applied to 12 grad schools ...     96   \n",
       "248  So... just got the notification my project was...     86   \n",
       "429  How did you react? What changed (if at all) ab...     76   \n",
       "\n",
       "             created_utc    subreddit  \n",
       "441  2019-02-27 19:08:42  AskAcademia  \n",
       "55   2020-09-13 14:14:29  AskAcademia  \n",
       "478  2018-02-10 01:56:14  AskAcademia  \n",
       "205  2019-05-12 03:11:12  AskAcademia  \n",
       "181  2019-04-26 01:59:55  AskAcademia  \n",
       "237  2019-09-18 07:13:42  AskAcademia  \n",
       "243  2019-09-02 20:38:26  AskAcademia  \n",
       "251  2019-08-21 18:08:48  AskAcademia  \n",
       "248  2019-08-28 22:10:14  AskAcademia  \n",
       "429  2019-03-21 21:30:46  AskAcademia  "
      ]
     },
     "execution_count": 139,
     "metadata": {},
     "output_type": "execute_result"
    }
   ],
   "source": [
    "post_df=post_df.sort_values(by='score', ascending=False)\n",
    "post_df.head(10)"
   ]
  },
  {
   "cell_type": "code",
   "execution_count": 140,
   "metadata": {},
   "outputs": [],
   "source": [
    "post_df.to_csv('post_df_by_score.csv', index=False, header=True)"
   ]
  },
  {
   "cell_type": "markdown",
   "metadata": {},
   "source": [
    "### 3️⃣ Post ids"
   ]
  },
  {
   "cell_type": "code",
   "execution_count": 99,
   "metadata": {},
   "outputs": [],
   "source": [
    "post_ids=[]\n",
    "B=post_df['id']\n",
    "for i in range(len(post_df)):\n",
    "    post_ids.append(B[i])"
   ]
  },
  {
   "cell_type": "code",
   "execution_count": 100,
   "metadata": {},
   "outputs": [
    {
     "data": {
      "text/plain": [
       "583"
      ]
     },
     "execution_count": 100,
     "metadata": {},
     "output_type": "execute_result"
    }
   ],
   "source": [
    "len(post_ids)"
   ]
  },
  {
   "cell_type": "code",
   "execution_count": 101,
   "metadata": {},
   "outputs": [],
   "source": [
    "#comment_ids = api.search_submission_comment_ids(ids=post_ids)\n",
    "#comment_id_list = [c_id for c_id in comment_ids]\n"
   ]
  },
  {
   "cell_type": "code",
   "execution_count": 65,
   "metadata": {},
   "outputs": [],
   "source": [
    "#clean_id_comment_df=pd.DataFrame(comment_id_list)\n",
    "#clean_id_comment_df.head(10)\n",
    "#clean_id_comment_df.to_csv('clean_id_comment_df.csv', index=False, header=True)"
   ]
  },
  {
   "cell_type": "markdown",
   "metadata": {},
   "source": [
    "### 4️⃣ Extraction des commentaires (2405)"
   ]
  },
  {
   "cell_type": "markdown",
   "metadata": {},
   "source": [
    "#### Do not execute this cell ⚠ \n"
   ]
  },
  {
   "cell_type": "code",
   "execution_count": 134,
   "metadata": {},
   "outputs": [
    {
     "name": "stdout",
     "output_type": "stream",
     "text": [
      "2405 results available in Pushshift\n",
      "Total:: Success Rate: 100.00% - Requests: 12 - Batches: 2 - Items Remaining: 1653\n",
      "Total:: Success Rate: 85.19% - Requests: 27 - Batches: 5 - Items Remaining: 1009\n",
      "Total:: Success Rate: 89.19% - Requests: 37 - Batches: 6 - Items Remaining: 605\n",
      "Total:: Success Rate: 91.49% - Requests: 47 - Batches: 7 - Items Remaining: 395\n",
      "Total:: Success Rate: 92.98% - Requests: 57 - Batches: 8 - Items Remaining: 215\n",
      "Total:: Success Rate: 94.03% - Requests: 67 - Batches: 9 - Items Remaining: 122\n",
      "Checkpoint:: Success Rate: 90.91% - Requests: 77 - Batches: 10 - Items Remaining: 86\n",
      "Total:: Success Rate: 90.12% - Requests: 81 - Batches: 12 - Items Remaining: 62\n",
      "Total:: Success Rate: 89.25% - Requests: 93 - Batches: 14 - Items Remaining: 27\n",
      "Total:: Success Rate: 89.42% - Requests: 104 - Batches: 16 - Items Remaining: 11\n",
      "Total:: Success Rate: 90.35% - Requests: 114 - Batches: 17 - Items Remaining: 0\n",
      "Wall time: 2min 6s\n"
     ]
    }
   ],
   "source": [
    "%%time\n",
    "api = PushshiftAPI()\n",
    "comments = api.search_comments(subreddit=\"askacademia\",q=\"mental health\")\n",
    "comment_list = [comment for comment in comments]"
   ]
  },
  {
   "cell_type": "markdown",
   "metadata": {},
   "source": [
    "### 5️⃣ Clean comments"
   ]
  },
  {
   "cell_type": "code",
   "execution_count": 135,
   "metadata": {},
   "outputs": [
    {
     "data": {
      "text/html": [
       "<div>\n",
       "<style scoped>\n",
       "    .dataframe tbody tr th:only-of-type {\n",
       "        vertical-align: middle;\n",
       "    }\n",
       "\n",
       "    .dataframe tbody tr th {\n",
       "        vertical-align: top;\n",
       "    }\n",
       "\n",
       "    .dataframe thead th {\n",
       "        text-align: right;\n",
       "    }\n",
       "</style>\n",
       "<table border=\"1\" class=\"dataframe\">\n",
       "  <thead>\n",
       "    <tr style=\"text-align: right;\">\n",
       "      <th></th>\n",
       "      <th>id</th>\n",
       "      <th>author</th>\n",
       "      <th>author_fullname</th>\n",
       "      <th>body</th>\n",
       "      <th>score</th>\n",
       "      <th>created_utc</th>\n",
       "      <th>subreddit</th>\n",
       "    </tr>\n",
       "  </thead>\n",
       "  <tbody>\n",
       "    <tr>\n",
       "      <th>0</th>\n",
       "      <td>fsbqsyt</td>\n",
       "      <td>dontbothertoknock</td>\n",
       "      <td>t2_b5j6d</td>\n",
       "      <td>Right?  One day, I had this beautiful containe...</td>\n",
       "      <td>2</td>\n",
       "      <td>1590860042</td>\n",
       "      <td>AskAcademia</td>\n",
       "    </tr>\n",
       "    <tr>\n",
       "      <th>1</th>\n",
       "      <td>fsbcfsd</td>\n",
       "      <td>alchemycarl</td>\n",
       "      <td>t2_3j8z4xj0</td>\n",
       "      <td>Acknowledging that removing your name may resu...</td>\n",
       "      <td>1</td>\n",
       "      <td>1590854072</td>\n",
       "      <td>AskAcademia</td>\n",
       "    </tr>\n",
       "    <tr>\n",
       "      <th>2</th>\n",
       "      <td>fs8sg3n</td>\n",
       "      <td>synthesis-synthesis</td>\n",
       "      <td>t2_3ev125pt</td>\n",
       "      <td>In your original post you explicitly stated th...</td>\n",
       "      <td>1</td>\n",
       "      <td>1590788161</td>\n",
       "      <td>AskAcademia</td>\n",
       "    </tr>\n",
       "  </tbody>\n",
       "</table>\n",
       "</div>"
      ],
      "text/plain": [
       "        id               author author_fullname  \\\n",
       "0  fsbqsyt    dontbothertoknock        t2_b5j6d   \n",
       "1  fsbcfsd          alchemycarl     t2_3j8z4xj0   \n",
       "2  fs8sg3n  synthesis-synthesis     t2_3ev125pt   \n",
       "\n",
       "                                                body  score  created_utc  \\\n",
       "0  Right?  One day, I had this beautiful containe...      2   1590860042   \n",
       "1  Acknowledging that removing your name may resu...      1   1590854072   \n",
       "2  In your original post you explicitly stated th...      1   1590788161   \n",
       "\n",
       "     subreddit  \n",
       "0  AskAcademia  \n",
       "1  AskAcademia  \n",
       "2  AskAcademia  "
      ]
     },
     "execution_count": 135,
     "metadata": {},
     "output_type": "execute_result"
    }
   ],
   "source": [
    "comment_df = pd.DataFrame(comment_list)\n",
    "# preview the comments data\n",
    "comment_df=comment_df[['id','author','author_fullname','body','score','created_utc','subreddit']]\n",
    "comment_df.head(3)"
   ]
  },
  {
   "cell_type": "markdown",
   "metadata": {},
   "source": [
    "#### date 📅"
   ]
  },
  {
   "cell_type": "code",
   "execution_count": 136,
   "metadata": {},
   "outputs": [
    {
     "name": "stderr",
     "output_type": "stream",
     "text": [
      "C:\\Users\\OMAIMA\\anaconda3\\envs\\myfirstevn\\lib\\site-packages\\pandas\\core\\indexing.py:671: SettingWithCopyWarning: \n",
      "A value is trying to be set on a copy of a slice from a DataFrame\n",
      "\n",
      "See the caveats in the documentation: https://pandas.pydata.org/pandas-docs/stable/user_guide/indexing.html#returning-a-view-versus-a-copy\n",
      "  self._setitem_with_indexer(indexer, value)\n",
      "<ipython-input-136-9381f36e61de>:3: SettingWithCopyWarning: \n",
      "A value is trying to be set on a copy of a slice from a DataFrame\n",
      "\n",
      "See the caveats in the documentation: https://pandas.pydata.org/pandas-docs/stable/user_guide/indexing.html#returning-a-view-versus-a-copy\n",
      "  comment_df['created_utc'][i]=datetime.utcfromtimestamp(comment_df['created_utc'][i]).strftime('%Y-%m-%d %H:%M:%S')\n"
     ]
    }
   ],
   "source": [
    "from datetime import datetime\n",
    "for i in range(len(comment_df)):\n",
    "    comment_df['created_utc'][i]=datetime.utcfromtimestamp(comment_df['created_utc'][i]).strftime('%Y-%m-%d %H:%M:%S')\n",
    "            "
   ]
  },
  {
   "cell_type": "code",
   "execution_count": 137,
   "metadata": {},
   "outputs": [
    {
     "data": {
      "text/plain": [
       "0    2020-05-30 17:34:02\n",
       "1    2020-05-30 15:54:32\n",
       "2    2020-05-29 21:36:01\n",
       "3    2020-05-29 19:08:26\n",
       "4    2020-05-29 18:08:51\n",
       "5    2020-05-29 10:47:06\n",
       "6    2020-05-29 01:29:28\n",
       "7    2020-05-28 22:57:27\n",
       "8    2020-05-28 22:52:01\n",
       "9    2020-05-28 18:20:24\n",
       "Name: created_utc, dtype: object"
      ]
     },
     "execution_count": 137,
     "metadata": {},
     "output_type": "execute_result"
    }
   ],
   "source": [
    "comment_df['created_utc'].head(10)"
   ]
  },
  {
   "cell_type": "code",
   "execution_count": 141,
   "metadata": {},
   "outputs": [],
   "source": [
    "comment_df.to_csv ('comment_df_by_date.csv', index = False, header=True)\n"
   ]
  },
  {
   "cell_type": "code",
   "execution_count": 128,
   "metadata": {},
   "outputs": [],
   "source": [
    "comment_df=comment_df.sort_values(by='score', ascending=False)"
   ]
  },
  {
   "cell_type": "code",
   "execution_count": 129,
   "metadata": {},
   "outputs": [
    {
     "data": {
      "text/html": [
       "<div>\n",
       "<style scoped>\n",
       "    .dataframe tbody tr th:only-of-type {\n",
       "        vertical-align: middle;\n",
       "    }\n",
       "\n",
       "    .dataframe tbody tr th {\n",
       "        vertical-align: top;\n",
       "    }\n",
       "\n",
       "    .dataframe thead th {\n",
       "        text-align: right;\n",
       "    }\n",
       "</style>\n",
       "<table border=\"1\" class=\"dataframe\">\n",
       "  <thead>\n",
       "    <tr style=\"text-align: right;\">\n",
       "      <th></th>\n",
       "      <th>id</th>\n",
       "      <th>author</th>\n",
       "      <th>author_fullname</th>\n",
       "      <th>body</th>\n",
       "      <th>score</th>\n",
       "      <th>created_utc</th>\n",
       "      <th>subreddit</th>\n",
       "    </tr>\n",
       "  </thead>\n",
       "  <tbody>\n",
       "    <tr>\n",
       "      <th>2311</th>\n",
       "      <td>cl6imhb</td>\n",
       "      <td>RedBugs</td>\n",
       "      <td>t2_5zz85</td>\n",
       "      <td>I have friends who've quit their PhDs at vario...</td>\n",
       "      <td>2321</td>\n",
       "      <td>2014-10-11 14:06:29</td>\n",
       "      <td>AskAcademia</td>\n",
       "    </tr>\n",
       "    <tr>\n",
       "      <th>1706</th>\n",
       "      <td>ef089f1</td>\n",
       "      <td>ardbeg</td>\n",
       "      <td>t2_4g4ip</td>\n",
       "      <td>Congratulations for making the brave decision ...</td>\n",
       "      <td>158</td>\n",
       "      <td>2019-01-26 11:00:28</td>\n",
       "      <td>AskAcademia</td>\n",
       "    </tr>\n",
       "    <tr>\n",
       "      <th>335</th>\n",
       "      <td>g54bxf8</td>\n",
       "      <td>phonograhy</td>\n",
       "      <td>t2_f5gk0</td>\n",
       "      <td>There's a lot to unpack here, and I think most...</td>\n",
       "      <td>120</td>\n",
       "      <td>2020-09-13 15:10:08</td>\n",
       "      <td>AskAcademia</td>\n",
       "    </tr>\n",
       "    <tr>\n",
       "      <th>1164</th>\n",
       "      <td>fdgaeo2</td>\n",
       "      <td>Enzohere</td>\n",
       "      <td>t2_13lnm4</td>\n",
       "      <td>I’m only in my second year and I can already a...</td>\n",
       "      <td>116</td>\n",
       "      <td>2020-01-07 08:51:08</td>\n",
       "      <td>AskAcademia</td>\n",
       "    </tr>\n",
       "    <tr>\n",
       "      <th>1617</th>\n",
       "      <td>eacnwlq</td>\n",
       "      <td>HexesOfVexes</td>\n",
       "      <td>t2_it2bf</td>\n",
       "      <td>The good : Holding that book at the end is the...</td>\n",
       "      <td>106</td>\n",
       "      <td>2018-11-24 09:39:55</td>\n",
       "      <td>AskAcademia</td>\n",
       "    </tr>\n",
       "    <tr>\n",
       "      <th>1939</th>\n",
       "      <td>drj7opk</td>\n",
       "      <td>HermanTheKid</td>\n",
       "      <td>NaN</td>\n",
       "      <td>So I'm not trying to be dismissive, I just wan...</td>\n",
       "      <td>103</td>\n",
       "      <td>2017-12-20 19:07:53</td>\n",
       "      <td>AskAcademia</td>\n",
       "    </tr>\n",
       "    <tr>\n",
       "      <th>1583</th>\n",
       "      <td>e7iambw</td>\n",
       "      <td>panchoop</td>\n",
       "      <td>t2_d1a5l</td>\n",
       "      <td>I think your annoyance and exasperation is und...</td>\n",
       "      <td>98</td>\n",
       "      <td>2018-10-10 12:05:42</td>\n",
       "      <td>AskAcademia</td>\n",
       "    </tr>\n",
       "    <tr>\n",
       "      <th>822</th>\n",
       "      <td>embbsrf</td>\n",
       "      <td>Sickened_but_curious</td>\n",
       "      <td>t2_pdhpg</td>\n",
       "      <td>Did you ever hear about \"publish or perish\"?  ...</td>\n",
       "      <td>90</td>\n",
       "      <td>2019-05-02 13:24:28</td>\n",
       "      <td>AskAcademia</td>\n",
       "    </tr>\n",
       "    <tr>\n",
       "      <th>1991</th>\n",
       "      <td>dvb8b5y</td>\n",
       "      <td>failedscientist</td>\n",
       "      <td>t2_ko83j77</td>\n",
       "      <td>How cut throat and evil it really is. I think ...</td>\n",
       "      <td>82</td>\n",
       "      <td>2018-03-07 07:51:55</td>\n",
       "      <td>AskAcademia</td>\n",
       "    </tr>\n",
       "    <tr>\n",
       "      <th>1993</th>\n",
       "      <td>dv8vis2</td>\n",
       "      <td>Blufaer1e</td>\n",
       "      <td>t2_grdxp</td>\n",
       "      <td>Start seeing a psychologist now. Seriously. Ev...</td>\n",
       "      <td>74</td>\n",
       "      <td>2018-03-06 02:24:55</td>\n",
       "      <td>AskAcademia</td>\n",
       "    </tr>\n",
       "  </tbody>\n",
       "</table>\n",
       "</div>"
      ],
      "text/plain": [
       "           id                author author_fullname  \\\n",
       "2311  cl6imhb               RedBugs        t2_5zz85   \n",
       "1706  ef089f1                ardbeg        t2_4g4ip   \n",
       "335   g54bxf8            phonograhy        t2_f5gk0   \n",
       "1164  fdgaeo2              Enzohere       t2_13lnm4   \n",
       "1617  eacnwlq          HexesOfVexes        t2_it2bf   \n",
       "1939  drj7opk          HermanTheKid             NaN   \n",
       "1583  e7iambw              panchoop        t2_d1a5l   \n",
       "822   embbsrf  Sickened_but_curious        t2_pdhpg   \n",
       "1991  dvb8b5y       failedscientist      t2_ko83j77   \n",
       "1993  dv8vis2             Blufaer1e        t2_grdxp   \n",
       "\n",
       "                                                   body  score  \\\n",
       "2311  I have friends who've quit their PhDs at vario...   2321   \n",
       "1706  Congratulations for making the brave decision ...    158   \n",
       "335   There's a lot to unpack here, and I think most...    120   \n",
       "1164  I’m only in my second year and I can already a...    116   \n",
       "1617  The good : Holding that book at the end is the...    106   \n",
       "1939  So I'm not trying to be dismissive, I just wan...    103   \n",
       "1583  I think your annoyance and exasperation is und...     98   \n",
       "822   Did you ever hear about \"publish or perish\"?  ...     90   \n",
       "1991  How cut throat and evil it really is. I think ...     82   \n",
       "1993  Start seeing a psychologist now. Seriously. Ev...     74   \n",
       "\n",
       "              created_utc    subreddit  \n",
       "2311  2014-10-11 14:06:29  AskAcademia  \n",
       "1706  2019-01-26 11:00:28  AskAcademia  \n",
       "335   2020-09-13 15:10:08  AskAcademia  \n",
       "1164  2020-01-07 08:51:08  AskAcademia  \n",
       "1617  2018-11-24 09:39:55  AskAcademia  \n",
       "1939  2017-12-20 19:07:53  AskAcademia  \n",
       "1583  2018-10-10 12:05:42  AskAcademia  \n",
       "822   2019-05-02 13:24:28  AskAcademia  \n",
       "1991  2018-03-07 07:51:55  AskAcademia  \n",
       "1993  2018-03-06 02:24:55  AskAcademia  "
      ]
     },
     "execution_count": 129,
     "metadata": {},
     "output_type": "execute_result"
    }
   ],
   "source": [
    "comment_df.head(10)"
   ]
  },
  {
   "cell_type": "code",
   "execution_count": 130,
   "metadata": {},
   "outputs": [],
   "source": [
    "comment_df.to_csv ('comment_df.csv', index = False, header=True)\n"
   ]
  },
  {
   "cell_type": "code",
   "execution_count": null,
   "metadata": {},
   "outputs": [],
   "source": []
  }
 ],
 "metadata": {
  "kernelspec": {
   "display_name": "Python 3",
   "language": "python",
   "name": "python3"
  },
  "language_info": {
   "codemirror_mode": {
    "name": "ipython",
    "version": 3
   },
   "file_extension": ".py",
   "mimetype": "text/x-python",
   "name": "python",
   "nbconvert_exporter": "python",
   "pygments_lexer": "ipython3",
   "version": "3.8.3"
  }
 },
 "nbformat": 4,
 "nbformat_minor": 4
}
